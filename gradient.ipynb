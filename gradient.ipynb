{
 "cells": [
  {
   "cell_type": "code",
   "execution_count": 14,
   "id": "825d121b-6259-4241-b76e-1fcbcfa2a9f2",
   "metadata": {},
   "outputs": [],
   "source": [
    "x =2 #start\n",
    "lr = 0.01 #It is defined as the step size taken to reach the minimum or lowest point.\n",
    "precision = 0.000001 #precision calculates the difference between two consecutive “x” values. \n",
    "                     #If the difference between x values from 2 consecutive iterations is lesser than the precision we set, stop the algorithm.\n",
    "previous_step_size = 1\n",
    "max_iter = 100\n",
    "iters = 0 #iteration counter\n",
    "gf = lambda x: (x + 3)**2"
   ]
  },
  {
   "cell_type": "code",
   "execution_count": 15,
   "id": "5d6ad9d9-82ec-47d5-b8a7-29797547e68f",
   "metadata": {},
   "outputs": [],
   "source": [
    "import matplotlib.pyplot as plt\n",
    "import numpy as np"
   ]
  },
  {
   "cell_type": "code",
   "execution_count": 16,
   "id": "368244af-d527-4952-a7ed-29252e0589d8",
   "metadata": {},
   "outputs": [],
   "source": [
    "gd = []\n"
   ]
  },
  {
   "cell_type": "code",
   "execution_count": 17,
   "id": "d068ca1c-e445-4b13-bfce-72707f83eaeb",
   "metadata": {},
   "outputs": [
    {
     "name": "stdout",
     "output_type": "stream",
     "text": [
      "Iterations:  1 Value:  1.75\n",
      "Iterations:  2 Value:  1.524375\n",
      "Iterations:  3 Value:  1.31967530859375\n",
      "Iterations:  4 Value:  1.133079360877005\n",
      "Iterations:  5 Value:  0.9622559108439301\n",
      "Iterations:  6 Value:  0.8052611918137536\n",
      "Iterations:  7 Value:  0.6604610644345152\n",
      "Iterations:  8 Value:  0.5264713123921045\n",
      "Iterations:  9 Value:  0.4021113132208596\n",
      "Iterations:  10 Value:  0.28636769934540596\n",
      "Iterations:  11 Value:  0.1783655727923978\n",
      "Iterations:  12 Value:  0.07734549564927831\n",
      "Iterations:  13 Value:  -0.017355057346650715\n",
      "Iterations:  14 Value:  -0.10631676588600673\n",
      "Iterations:  15 Value:  -0.19005079247993095\n",
      "Iterations:  16 Value:  -0.26900893796835756\n",
      "Iterations:  17 Value:  -0.34359205977732477\n",
      "Iterations:  18 Value:  -0.41415709122610556\n",
      "Iterations:  19 Value:  -0.4810229267146679\n",
      "Iterations:  20 Value:  -0.5444753816720392\n",
      "Iterations:  21 Value:  -0.604771393184186\n",
      "Iterations:  22 Value:  -0.6621425939732744\n",
      "Iterations:  23 Value:  -0.7167983664824145\n",
      "Iterations:  24 Value:  -0.7689284634753881\n",
      "Iterations:  25 Value:  -0.8187052654862911\n",
      "Iterations:  26 Value:  -0.8662857326744634\n",
      "Iterations:  27 Value:  -0.911813098420349\n",
      "Iterations:  28 Value:  -0.9554183437796372\n",
      "Iterations:  29 Value:  -0.9972214852691652\n",
      "Iterations:  30 Value:  -1.0373327030598396\n",
      "Iterations:  31 Value:  -1.0758533322446235\n",
      "Iterations:  32 Value:  -1.1128767362349647\n",
      "Iterations:  33 Value:  -1.1484890783613968\n",
      "Iterations:  34 Value:  -1.1827700052908672\n",
      "Iterations:  35 Value:  -1.2157932538275726\n",
      "Iterations:  36 Value:  -1.2476271909584447\n",
      "Iterations:  37 Value:  -1.2783352955771266\n",
      "Iterations:  38 Value:  -1.3079765891216815\n",
      "Iterations:  39 Value:  -1.3366060213512845\n",
      "Iterations:  40 Value:  -1.3642748166333325\n",
      "Iterations:  41 Value:  -1.3910307853883317\n",
      "Iterations:  42 Value:  -1.4169186047240125\n",
      "Iterations:  43 Value:  -1.4419800717647022\n",
      "Iterations:  44 Value:  -1.4662543327324855\n",
      "Iterations:  45 Value:  -1.4897780904511042\n",
      "Iterations:  46 Value:  -1.5125857926119193\n",
      "Iterations:  47 Value:  -1.5347098028553183\n",
      "Iterations:  48 Value:  -1.5561805564738014\n",
      "Iterations:  49 Value:  -1.5770267023288445\n",
      "Iterations:  50 Value:  -1.5972752323876958\n",
      "Iterations:  51 Value:  -1.6169516001244257\n",
      "Iterations:  52 Value:  -1.6360798288884095\n",
      "Iterations:  53 Value:  -1.6546826112200603\n",
      "Iterations:  54 Value:  -1.6727813999855972\n",
      "Iterations:  55 Value:  -1.6903964921078392\n",
      "Iterations:  56 Value:  -1.7075471055866738\n",
      "Iterations:  57 Value:  -1.7242514504294477\n",
      "Iterations:  58 Value:  -1.7405267940467615\n",
      "Iterations:  59 Value:  -1.7563895216119028\n",
      "Iterations:  60 Value:  -1.7718551918314696\n",
      "Iterations:  61 Value:  -1.7869385885297828\n",
      "Iterations:  62 Value:  -1.801653768409764\n",
      "Iterations:  63 Value:  -1.8160141053174292\n",
      "Iterations:  64 Value:  -1.830032331305502\n",
      "Iterations:  65 Value:  -1.8437205747634065\n",
      "Iterations:  66 Value:  -1.857090395855661\n",
      "Iterations:  67 Value:  -1.8701528194881147\n",
      "Iterations:  68 Value:  -1.8829183660012212\n",
      "Iterations:  69 Value:  -1.895397079771395\n",
      "Iterations:  70 Value:  -1.9075985558851707\n",
      "Iterations:  71 Value:  -1.9195319650362124\n",
      "Iterations:  72 Value:  -1.9312060767819974\n",
      "Iterations:  73 Value:  -1.9426292812850747\n",
      "Iterations:  74 Value:  -1.953809609653032\n",
      "Iterations:  75 Value:  -1.9647547529815754\n",
      "Iterations:  76 Value:  -1.975472080196318\n",
      "Iterations:  77 Value:  -1.9859686547808906\n",
      "Iterations:  78 Value:  -1.9962512504717593\n",
      "Iterations:  79 Value:  -2.006326365993554\n",
      "Iterations:  80 Value:  -2.01620023890275\n",
      "Iterations:  81 Value:  -2.0258788586021\n",
      "Iterations:  82 Value:  -2.0353679785832837\n",
      "Iterations:  83 Value:  -2.0446731279507087\n",
      "Iterations:  84 Value:  -2.0537996222753034\n",
      "Iterations:  85 Value:  -2.062752573823367\n",
      "Iterations:  86 Value:  -2.0715369012021143\n",
      "Iterations:  87 Value:  -2.080157338460408\n",
      "Iterations:  88 Value:  -2.08861844368029\n",
      "Iterations:  89 Value:  -2.0969246070922876\n",
      "Iterations:  90 Value:  -2.105080058745042\n",
      "Iterations:  91 Value:  -2.1130888757575996\n",
      "Iterations:  92 Value:  -2.1209549891806487\n",
      "Iterations:  93 Value:  -2.1286821904911126\n",
      "Iterations:  94 Value:  -2.1362741377427863\n",
      "Iterations:  95 Value:  -2.143734361394106\n",
      "Iterations:  96 Value:  -2.1510662698326777\n",
      "Iterations:  97 Value:  -2.158273154614836\n",
      "Iterations:  98 Value:  -2.1653581954372565\n",
      "Iterations:  99 Value:  -2.172324464856494\n",
      "Iterations:  100 Value:  -2.179174932771245\n"
     ]
    }
   ],
   "source": [
    "while precision < previous_step_size and iters < max_iter:\n",
    "    prev = x\n",
    "    x = x - lr * gf(prev)\n",
    "    previous_step_size = abs(x - prev)\n",
    "    iters += 1\n",
    "    print('Iterations: ',iters, 'Value: ', x)\n",
    "    gd.append(x)"
   ]
  },
  {
   "cell_type": "code",
   "execution_count": 18,
   "id": "f940c0dd-d496-47c0-bd0f-09e41e04ab8d",
   "metadata": {},
   "outputs": [
    {
     "name": "stdout",
     "output_type": "stream",
     "text": [
      "Local Minima:  -2.179174932771245\n"
     ]
    }
   ],
   "source": [
    "print('Local Minima: ', x)\n"
   ]
  },
  {
   "cell_type": "code",
   "execution_count": 21,
   "id": "05b5e551-7be2-49c8-b51b-4cd75214539f",
   "metadata": {},
   "outputs": [
    {
     "data": {
      "image/png": "[encoded data removed]",
      "text/plain": [
       "<Figure size 640x480 with 1 Axes>"
      ]
     },
     "metadata": {},
     "output_type": "display_data"
    }
   ],
   "source": [
    "X_arr = np.array(gd) #for converting lidt gd to array x_arr\n",
    "x_cordinate = np.linspace(-5,5,100) #generates 100 evenly spaced values between -5 and 5.\n",
    "plt.plot(x_cordinate,gf(x_cordinate)) #plot will show the overall shape of the function y=f(x), giving a visual reference of the landscape\n",
    "plt.plot(X_arr, gf(X_arr), '.-', color='red')\n",
    "plt.show()"
   ]
  },
  {
   "cell_type": "code",
   "execution_count": null,
   "id": "91b43b91-f10b-4be0-bc49-1094fec7cec1",
   "metadata": {},
   "outputs": [],
   "source": []
  }
 ],
 "metadata": {
  "kernelspec": {
   "display_name": "Python 3 (ipykernel)",
   "language": "python",
   "name": "python3"
  },
  "language_info": {
   "codemirror_mode": {
    "name": "ipython",
    "version": 3
   },
   "file_extension": ".py",
   "mimetype": "text/x-python",
   "name": "python",
   "nbconvert_exporter": "python",
   "pygments_lexer": "ipython3",
   "version": "3.12.3"
  }
 },
 "nbformat": 4,
 "nbformat_minor": 5
}
